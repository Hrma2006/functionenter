{
 "cells": [
  {
   "cell_type": "code",
   "execution_count": 12,
   "metadata": {},
   "outputs": [],
   "source": [
    "import matplotlib.pyplot as plt\n",
    "import numpy as np\n",
    "import sympy as sp\n",
    "from sympy import symbols,Eq,solve"
   ]
  },
  {
   "cell_type": "code",
   "execution_count": 16,
   "metadata": {},
   "outputs": [
    {
     "ename": "TypeError",
     "evalue": "'Add' object is not iterable",
     "output_type": "error",
     "traceback": [
      "\u001b[0;31m---------------------------------------------------------------------------\u001b[0m",
      "\u001b[0;31mTypeError\u001b[0m                                 Traceback (most recent call last)",
      "Cell \u001b[0;32mIn[16], line 2\u001b[0m\n\u001b[1;32m      1\u001b[0m x\u001b[39m=\u001b[39msymbols(\u001b[39m'\u001b[39m\u001b[39mx\u001b[39m\u001b[39m'\u001b[39m)\n\u001b[0;32m----> 2\u001b[0m function\u001b[39m=\u001b[39msp\u001b[39m.\u001b[39;49msymbols(\u001b[39m2\u001b[39;49m\u001b[39m*\u001b[39;49mx\u001b[39m+\u001b[39;49m\u001b[39m1\u001b[39;49m)\n\u001b[1;32m      3\u001b[0m \u001b[39mprint\u001b[39m (function)\n\u001b[1;32m      6\u001b[0m \u001b[39m#function_f=sp.Lambda(x,function)\u001b[39;00m\n",
      "File \u001b[0;32m~/miniforge3/envs/tensorflow/lib/python3.10/site-packages/sympy/core/symbol.py:793\u001b[0m, in \u001b[0;36msymbols\u001b[0;34m(names, cls, **args)\u001b[0m\n\u001b[1;32m    791\u001b[0m     \u001b[39mreturn\u001b[39;00m \u001b[39mtuple\u001b[39m(result)\n\u001b[1;32m    792\u001b[0m \u001b[39melse\u001b[39;00m:\n\u001b[0;32m--> 793\u001b[0m     \u001b[39mfor\u001b[39;00m name \u001b[39min\u001b[39;00m names:\n\u001b[1;32m    794\u001b[0m         result\u001b[39m.\u001b[39mappend(symbols(name, \u001b[39mcls\u001b[39m\u001b[39m=\u001b[39m\u001b[39mcls\u001b[39m, \u001b[39m*\u001b[39m\u001b[39m*\u001b[39margs))\n\u001b[1;32m    796\u001b[0m     \u001b[39mreturn\u001b[39;00m \u001b[39mtype\u001b[39m(names)(result)\n",
      "\u001b[0;31mTypeError\u001b[0m: 'Add' object is not iterable"
     ]
    }
   ],
   "source": [
    "x=symbols('x')\n",
    "function=sp.symbols(2*x+1)\n",
    "print (function)\n",
    "\n",
    "\n",
    "#function_f=sp.Lambda(x,function)\n",
    "\n",
    "y=solve(Eq(function))\n",
    "print (y)"
   ]
  },
  {
   "cell_type": "code",
   "execution_count": null,
   "metadata": {},
   "outputs": [],
   "source": [
    "#print(solve(x))"
   ]
  }
 ],
 "metadata": {
  "kernelspec": {
   "display_name": "Python 3",
   "language": "python",
   "name": "python3"
  },
  "language_info": {
   "codemirror_mode": {
    "name": "ipython",
    "version": 3
   },
   "file_extension": ".py",
   "mimetype": "text/x-python",
   "name": "python",
   "nbconvert_exporter": "python",
   "pygments_lexer": "ipython3",
   "version": "3.10.8"
  },
  "orig_nbformat": 4,
  "vscode": {
   "interpreter": {
    "hash": "a9e5c77caea663d05329b5bb913118ccc72231e25191d9fda09084af484e1720"
   }
  }
 },
 "nbformat": 4,
 "nbformat_minor": 2
}
